{
  "nbformat": 4,
  "nbformat_minor": 0,
  "metadata": {
    "colab": {
      "name": "A _Ameetha.ipynb",
      "provenance": [],
      "collapsed_sections": []
    },
    "kernelspec": {
      "name": "python3",
      "display_name": "Python 3"
    },
    "language_info": {
      "name": "python"
    }
  },
  "cells": [
    {
      "cell_type": "code",
      "metadata": {
        "colab": {
          "base_uri": "https://localhost:8080/",
          "height": 128
        },
        "id": "5IB6o2v3hJRN",
        "outputId": "f59cb761-1eae-4725-add9-8ecd0adecf68"
      },
      "source": [
        "import numpy as np\n",
        "import pandas as pd\n",
        "import sklearn\n",
        "from sklearn.datasets import load_boston\n",
        "df=load_boston()\n",
        "[]df.keys (['data','target','feature_names','DESCR','filename'])\n",
        "[]print(df.data)\n",
        "\n",
        "\n",
        "[boston=pd.Dataframe(df.data,columns=df.feature_names)]\n",
        "boston.head()\n",
        "\n",
        "boston['MEDV']=df.target\n",
        "boston.head()\n",
        "boston.isnull().sum()\n",
        "\n",
        "from sklearn.linear_model import LinearReggression\n",
        "from=sklearn.metrics import mean_squared_error\n",
        "lin_model= LinearRegression()\n",
        "\n",
        "\n",
        "lin_model.fit(X_train, Y_train)\n",
        "\n",
        "LinearRegression(copy_X=True, fit_intercept=True,n_jobs=none,normalize)\n",
        "[]y_train_predict =lin_model.predict(X_train)\n",
        "rmse=(np.sqrt(mean_squared_error(Y_train,y_train_predict)))\n",
        "print(\"The model performance for training set\")\n",
        "print('RMSE is {}'.formate(rmse))\n",
        "print(\"\\n\")\n",
        "\n",
        "x=boston.drop['MEDV',axis=1]\n",
        "y=boston['MEDV']\n",
        "\n",
        "X_train,X_test, Y_train, Y_test=train_test=split(X, Y, test_size=0.15, random_state=5)\n",
        "\n",
        "print(X_train.shape)\n",
        "print(X_test.shape)\n",
        "print(Y_train.shape)\n",
        "print(Y_test.shape)\n",
        "\n"
      ],
      "execution_count": 9,
      "outputs": [
        {
          "output_type": "error",
          "ename": "SyntaxError",
          "evalue": "ignored",
          "traceback": [
            "\u001b[0;36m  File \u001b[0;32m\"<ipython-input-9-131c44953772>\"\u001b[0;36m, line \u001b[0;32m6\u001b[0m\n\u001b[0;31m    []df.keys (['data','target','feature_names','DESCR','filename'])\u001b[0m\n\u001b[0m       ^\u001b[0m\n\u001b[0;31mSyntaxError\u001b[0m\u001b[0;31m:\u001b[0m invalid syntax\n"
          ]
        }
      ]
    }
  ]
}